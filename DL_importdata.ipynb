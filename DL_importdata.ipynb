{
 "cells": [
  {
   "cell_type": "code",
   "execution_count": 1,
   "metadata": {},
   "outputs": [],
   "source": [
    "import mysql.connector \n",
    "import pandas as pd"
   ]
  },
  {
   "cell_type": "code",
   "execution_count": 2,
   "metadata": {},
   "outputs": [],
   "source": [
    "mydb = mysql.connector.connect(\n",
    "  host=\"localhost\",\n",
    "  user=\"root\",\n",
    "  password=\"123456789\",\n",
    "  database=\"gravity_books\"\n",
    ")\n",
    "\n",
    "mycursor = mydb.cursor()\n",
    "mycursor.execute(\"SHOW tables\")\n"
   ]
  },
  {
   "cell_type": "code",
   "execution_count": 3,
   "metadata": {},
   "outputs": [
    {
     "name": "stdout",
     "output_type": "stream",
     "text": [
      "('address',)\n",
      "('address_status',)\n",
      "('author',)\n",
      "('book',)\n",
      "('book_author',)\n",
      "('book_language',)\n",
      "('country',)\n",
      "('cust_order',)\n",
      "('customer',)\n",
      "('customer_address',)\n",
      "('order_history',)\n",
      "('order_line',)\n",
      "('order_status',)\n",
      "('publisher',)\n",
      "('shipping_method',)\n"
     ]
    }
   ],
   "source": [
    "for x in mycursor:\n",
    "  print(x)"
   ]
  },
  {
   "cell_type": "code",
   "execution_count": 4,
   "metadata": {},
   "outputs": [],
   "source": [
    "query1 = \"SELECT * FROM cust_order\"\n",
    "query2 = \"SELECT * FROM customer\"\n",
    "query3 = \"SELECT * FROM order_history\"\n",
    "query4 = \"SELECT * FROM order_status\""
   ]
  },
  {
   "cell_type": "code",
   "execution_count": null,
   "metadata": {},
   "outputs": [],
   "source": [
    "cust_order_df= pd.read_sql(query1,con=mydb)\n",
    "customer_df=pd.read_sql(query2,con=mydb)\n",
    "order_history_df=pd.read_sql(query3,con=mydb)\n",
    "order_status_df=pd.read_sql(query4,con=mydb)"
   ]
  },
  {
   "cell_type": "code",
   "execution_count": 6,
   "metadata": {},
   "outputs": [
    {
     "name": "stdout",
     "output_type": "stream",
     "text": [
      "<class 'pandas.core.frame.DataFrame'>\n",
      "RangeIndex: 7550 entries, 0 to 7549\n",
      "Data columns (total 5 columns):\n",
      " #   Column              Non-Null Count  Dtype         \n",
      "---  ------              --------------  -----         \n",
      " 0   order_id            7550 non-null   int64         \n",
      " 1   order_date          7550 non-null   datetime64[ns]\n",
      " 2   customer_id         7550 non-null   int64         \n",
      " 3   shipping_method_id  7550 non-null   int64         \n",
      " 4   dest_address_id     7550 non-null   int64         \n",
      "dtypes: datetime64[ns](1), int64(4)\n",
      "memory usage: 295.1 KB\n"
     ]
    }
   ],
   "source": [
    "cust_order_df.info()"
   ]
  },
  {
   "cell_type": "code",
   "execution_count": 7,
   "metadata": {},
   "outputs": [
    {
     "name": "stdout",
     "output_type": "stream",
     "text": [
      "<class 'pandas.core.frame.DataFrame'>\n",
      "RangeIndex: 2000 entries, 0 to 1999\n",
      "Data columns (total 4 columns):\n",
      " #   Column       Non-Null Count  Dtype \n",
      "---  ------       --------------  ----- \n",
      " 0   customer_id  2000 non-null   int64 \n",
      " 1   first_name   2000 non-null   object\n",
      " 2   last_name    2000 non-null   object\n",
      " 3   email        2000 non-null   object\n",
      "dtypes: int64(1), object(3)\n",
      "memory usage: 62.6+ KB\n"
     ]
    }
   ],
   "source": [
    "customer_df.info()"
   ]
  },
  {
   "cell_type": "code",
   "execution_count": 8,
   "metadata": {},
   "outputs": [
    {
     "name": "stdout",
     "output_type": "stream",
     "text": [
      "<class 'pandas.core.frame.DataFrame'>\n",
      "RangeIndex: 22345 entries, 0 to 22344\n",
      "Data columns (total 4 columns):\n",
      " #   Column       Non-Null Count  Dtype         \n",
      "---  ------       --------------  -----         \n",
      " 0   history_id   22345 non-null  int64         \n",
      " 1   order_id     22345 non-null  int64         \n",
      " 2   status_id    22345 non-null  int64         \n",
      " 3   status_date  22345 non-null  datetime64[ns]\n",
      "dtypes: datetime64[ns](1), int64(3)\n",
      "memory usage: 698.4 KB\n"
     ]
    }
   ],
   "source": [
    "order_history_df.info()"
   ]
  },
  {
   "cell_type": "code",
   "execution_count": 9,
   "metadata": {},
   "outputs": [
    {
     "name": "stdout",
     "output_type": "stream",
     "text": [
      "<class 'pandas.core.frame.DataFrame'>\n",
      "RangeIndex: 6 entries, 0 to 5\n",
      "Data columns (total 2 columns):\n",
      " #   Column        Non-Null Count  Dtype \n",
      "---  ------        --------------  ----- \n",
      " 0   status_id     6 non-null      int64 \n",
      " 1   status_value  6 non-null      object\n",
      "dtypes: int64(1), object(1)\n",
      "memory usage: 228.0+ bytes\n"
     ]
    }
   ],
   "source": [
    "order_status_df.info()"
   ]
  },
  {
   "cell_type": "code",
   "execution_count": 10,
   "metadata": {},
   "outputs": [],
   "source": [
    "cust_order_df.to_csv(\"cust_order.csv\",index=False)\n",
    "customer_df.to_csv(\"customer.csv\",index=False)\n",
    "order_history_df.to_csv(\"order_history.csv\",index=False)\n",
    "order_status_df.to_csv(\"order_status.csv\",index=False)"
   ]
  }
 ],
 "metadata": {
  "kernelspec": {
   "display_name": "Python 3",
   "language": "python",
   "name": "python3"
  },
  "language_info": {
   "codemirror_mode": {
    "name": "ipython",
    "version": 3
   },
   "file_extension": ".py",
   "mimetype": "text/x-python",
   "name": "python",
   "nbconvert_exporter": "python",
   "pygments_lexer": "ipython3",
   "version": "3.12.2"
  }
 },
 "nbformat": 4,
 "nbformat_minor": 2
}
